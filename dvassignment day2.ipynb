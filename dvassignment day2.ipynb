{
 "cells": [
  {
   "cell_type": "code",
   "execution_count": 1,
   "metadata": {},
   "outputs": [],
   "source": [
    "import matplotlib.pyplot as plt\n",
    "import numpy as np\n",
    "import pandas as pd\n",
    "%matplotlib inline\n",
    "import seaborn as sns\n",
    "from numpy.random import randn, randint, uniform, sample"
   ]
  },
  {
   "cell_type": "code",
   "execution_count": 7,
   "metadata": {},
   "outputs": [
    {
     "data": {
      "text/html": [
       "<div>\n",
       "<style scoped>\n",
       "    .dataframe tbody tr th:only-of-type {\n",
       "        vertical-align: middle;\n",
       "    }\n",
       "\n",
       "    .dataframe tbody tr th {\n",
       "        vertical-align: top;\n",
       "    }\n",
       "\n",
       "    .dataframe thead th {\n",
       "        text-align: right;\n",
       "    }\n",
       "</style>\n",
       "<table border=\"1\" class=\"dataframe\">\n",
       "  <thead>\n",
       "    <tr style=\"text-align: right;\">\n",
       "      <th></th>\n",
       "      <th>a</th>\n",
       "      <th>b</th>\n",
       "      <th>c</th>\n",
       "      <th>d</th>\n",
       "    </tr>\n",
       "  </thead>\n",
       "  <tbody>\n",
       "    <tr>\n",
       "      <th>0</th>\n",
       "      <td>2.001420</td>\n",
       "      <td>1.401088</td>\n",
       "      <td>0.761198</td>\n",
       "      <td>0.485365</td>\n",
       "    </tr>\n",
       "    <tr>\n",
       "      <th>1</th>\n",
       "      <td>2.555506</td>\n",
       "      <td>1.071766</td>\n",
       "      <td>-1.116427</td>\n",
       "      <td>0.887613</td>\n",
       "    </tr>\n",
       "    <tr>\n",
       "      <th>2</th>\n",
       "      <td>-0.292267</td>\n",
       "      <td>-0.469102</td>\n",
       "      <td>0.440997</td>\n",
       "      <td>-0.762352</td>\n",
       "    </tr>\n",
       "    <tr>\n",
       "      <th>3</th>\n",
       "      <td>-1.510456</td>\n",
       "      <td>-0.540975</td>\n",
       "      <td>-1.082657</td>\n",
       "      <td>1.030044</td>\n",
       "    </tr>\n",
       "    <tr>\n",
       "      <th>4</th>\n",
       "      <td>-0.614973</td>\n",
       "      <td>1.314526</td>\n",
       "      <td>-0.168546</td>\n",
       "      <td>0.699688</td>\n",
       "    </tr>\n",
       "    <tr>\n",
       "      <th>5</th>\n",
       "      <td>-0.585563</td>\n",
       "      <td>0.035174</td>\n",
       "      <td>0.145994</td>\n",
       "      <td>-1.483219</td>\n",
       "    </tr>\n",
       "    <tr>\n",
       "      <th>6</th>\n",
       "      <td>2.280469</td>\n",
       "      <td>-1.802160</td>\n",
       "      <td>0.129066</td>\n",
       "      <td>1.596214</td>\n",
       "    </tr>\n",
       "    <tr>\n",
       "      <th>7</th>\n",
       "      <td>0.345867</td>\n",
       "      <td>-0.468923</td>\n",
       "      <td>0.331335</td>\n",
       "      <td>-0.546595</td>\n",
       "    </tr>\n",
       "    <tr>\n",
       "      <th>8</th>\n",
       "      <td>-0.309794</td>\n",
       "      <td>-0.507612</td>\n",
       "      <td>-0.427145</td>\n",
       "      <td>-0.178708</td>\n",
       "    </tr>\n",
       "    <tr>\n",
       "      <th>9</th>\n",
       "      <td>0.801768</td>\n",
       "      <td>1.452066</td>\n",
       "      <td>1.275602</td>\n",
       "      <td>-0.153943</td>\n",
       "    </tr>\n",
       "  </tbody>\n",
       "</table>\n",
       "</div>"
      ],
      "text/plain": [
       "          a         b         c         d\n",
       "0  2.001420  1.401088  0.761198  0.485365\n",
       "1  2.555506  1.071766 -1.116427  0.887613\n",
       "2 -0.292267 -0.469102  0.440997 -0.762352\n",
       "3 -1.510456 -0.540975 -1.082657  1.030044\n",
       "4 -0.614973  1.314526 -0.168546  0.699688\n",
       "5 -0.585563  0.035174  0.145994 -1.483219\n",
       "6  2.280469 -1.802160  0.129066  1.596214\n",
       "7  0.345867 -0.468923  0.331335 -0.546595\n",
       "8 -0.309794 -0.507612 -0.427145 -0.178708\n",
       "9  0.801768  1.452066  1.275602 -0.153943"
      ]
     },
     "execution_count": 7,
     "metadata": {},
     "output_type": "execute_result"
    }
   ],
   "source": [
    "df=pd.DataFrame(randn(10,4), columns=['a','b','c','d'])\n",
    "df"
   ]
  },
  {
   "cell_type": "code",
   "execution_count": 11,
   "metadata": {},
   "outputs": [
    {
     "data": {
      "text/plain": [
       "<matplotlib.axes._subplots.AxesSubplot at 0x20876949da0>"
      ]
     },
     "execution_count": 11,
     "metadata": {},
     "output_type": "execute_result"
    },
    {
     "data": {
      "image/png": "[encoded data removed]",
      "text/plain": [
       "<Figure size 720x720 with 1 Axes>"
      ]
     },
     "metadata": {
      "needs_background": "light"
     },
     "output_type": "display_data"
    }
   ],
   "source": [
    "df.plot(kind='bar',title='Bar Chart',figsize=(10,10),grid=True,legend = True)"
   ]
  },
  {
   "cell_type": "code",
   "execution_count": null,
   "metadata": {},
   "outputs": [],
   "source": []
  }
 ],
 "metadata": {
  "kernelspec": {
   "display_name": "Python 3",
   "language": "python",
   "name": "python3"
  },
  "language_info": {
   "codemirror_mode": {
    "name": "ipython",
    "version": 3
   },
   "file_extension": ".py",
   "mimetype": "text/x-python",
   "name": "python",
   "nbconvert_exporter": "python",
   "pygments_lexer": "ipython3",
   "version": "3.7.3"
  }
 },
 "nbformat": 4,
 "nbformat_minor": 2
}
